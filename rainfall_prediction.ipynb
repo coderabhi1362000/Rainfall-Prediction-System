{
 "cells": [
  {
   "cell_type": "markdown",
   "id": "6f5ff749-0c2e-4f73-ab3d-91944a508593",
   "metadata": {},
   "source": [
    "# Data Acquisition"
   ]
  },
  {
   "cell_type": "code",
   "execution_count": 169,
   "id": "9059799a-6f26-4623-91d5-56ca6f267b9f",
   "metadata": {},
   "outputs": [],
   "source": [
    "import numpy as np\n",
    "import pandas as pd\n",
    "import seaborn as sns \n",
    "import matplotlib.pyplot as plt\n",
    "df=pd.read_excel(\"C:/Users/Abhinav Tripathi/Downloads/sydney_rain prediction.xlsx\")"
   ]
  },
  {
   "cell_type": "code",
   "execution_count": 3,
   "id": "05bddfe4-3818-4a56-94fc-d6111931f124",
   "metadata": {},
   "outputs": [
    {
     "data": {
      "text/html": [
       "<div>\n",
       "<style scoped>\n",
       "    .dataframe tbody tr th:only-of-type {\n",
       "        vertical-align: middle;\n",
       "    }\n",
       "\n",
       "    .dataframe tbody tr th {\n",
       "        vertical-align: top;\n",
       "    }\n",
       "\n",
       "    .dataframe thead th {\n",
       "        text-align: right;\n",
       "    }\n",
       "</style>\n",
       "<table border=\"1\" class=\"dataframe\">\n",
       "  <thead>\n",
       "    <tr style=\"text-align: right;\">\n",
       "      <th></th>\n",
       "      <th>Date</th>\n",
       "      <th>Location</th>\n",
       "      <th>MinTemp</th>\n",
       "      <th>MaxTemp</th>\n",
       "      <th>Rainfall</th>\n",
       "      <th>Evaporation</th>\n",
       "      <th>Sunshine</th>\n",
       "      <th>Humidity9am</th>\n",
       "      <th>Humidity3pm</th>\n",
       "      <th>Pressure9am</th>\n",
       "      <th>Pressure3pm</th>\n",
       "      <th>Cloud9am</th>\n",
       "      <th>Cloud3pm</th>\n",
       "      <th>Temp9am</th>\n",
       "      <th>Temp3pm</th>\n",
       "      <th>RainToday</th>\n",
       "      <th>RainTomorrow</th>\n",
       "    </tr>\n",
       "  </thead>\n",
       "  <tbody>\n",
       "    <tr>\n",
       "      <th>0</th>\n",
       "      <td>2008-02-01</td>\n",
       "      <td>Sydney</td>\n",
       "      <td>19.5</td>\n",
       "      <td>22.4</td>\n",
       "      <td>15.6</td>\n",
       "      <td>6.2</td>\n",
       "      <td>0.0</td>\n",
       "      <td>92.0</td>\n",
       "      <td>84.0</td>\n",
       "      <td>1017.6</td>\n",
       "      <td>1017.4</td>\n",
       "      <td>8.0</td>\n",
       "      <td>8.0</td>\n",
       "      <td>20.7</td>\n",
       "      <td>20.9</td>\n",
       "      <td>Yes</td>\n",
       "      <td>Yes</td>\n",
       "    </tr>\n",
       "    <tr>\n",
       "      <th>1</th>\n",
       "      <td>2008-02-02</td>\n",
       "      <td>Sydney</td>\n",
       "      <td>19.5</td>\n",
       "      <td>25.6</td>\n",
       "      <td>6.0</td>\n",
       "      <td>3.4</td>\n",
       "      <td>2.7</td>\n",
       "      <td>83.0</td>\n",
       "      <td>73.0</td>\n",
       "      <td>1017.9</td>\n",
       "      <td>1016.4</td>\n",
       "      <td>7.0</td>\n",
       "      <td>7.0</td>\n",
       "      <td>22.4</td>\n",
       "      <td>24.8</td>\n",
       "      <td>Yes</td>\n",
       "      <td>Yes</td>\n",
       "    </tr>\n",
       "    <tr>\n",
       "      <th>2</th>\n",
       "      <td>2008-02-03</td>\n",
       "      <td>Sydney</td>\n",
       "      <td>21.6</td>\n",
       "      <td>24.5</td>\n",
       "      <td>6.6</td>\n",
       "      <td>2.4</td>\n",
       "      <td>0.1</td>\n",
       "      <td>88.0</td>\n",
       "      <td>86.0</td>\n",
       "      <td>1016.7</td>\n",
       "      <td>1015.6</td>\n",
       "      <td>7.0</td>\n",
       "      <td>8.0</td>\n",
       "      <td>23.5</td>\n",
       "      <td>23.0</td>\n",
       "      <td>Yes</td>\n",
       "      <td>Yes</td>\n",
       "    </tr>\n",
       "    <tr>\n",
       "      <th>3</th>\n",
       "      <td>2008-02-04</td>\n",
       "      <td>Sydney</td>\n",
       "      <td>20.2</td>\n",
       "      <td>22.8</td>\n",
       "      <td>18.8</td>\n",
       "      <td>2.2</td>\n",
       "      <td>0.0</td>\n",
       "      <td>83.0</td>\n",
       "      <td>90.0</td>\n",
       "      <td>1014.2</td>\n",
       "      <td>1011.8</td>\n",
       "      <td>8.0</td>\n",
       "      <td>8.0</td>\n",
       "      <td>21.4</td>\n",
       "      <td>20.9</td>\n",
       "      <td>Yes</td>\n",
       "      <td>Yes</td>\n",
       "    </tr>\n",
       "    <tr>\n",
       "      <th>4</th>\n",
       "      <td>2008-02-05</td>\n",
       "      <td>Sydney</td>\n",
       "      <td>19.7</td>\n",
       "      <td>25.7</td>\n",
       "      <td>77.4</td>\n",
       "      <td>NaN</td>\n",
       "      <td>0.0</td>\n",
       "      <td>88.0</td>\n",
       "      <td>74.0</td>\n",
       "      <td>1008.3</td>\n",
       "      <td>1004.8</td>\n",
       "      <td>8.0</td>\n",
       "      <td>8.0</td>\n",
       "      <td>22.5</td>\n",
       "      <td>25.5</td>\n",
       "      <td>Yes</td>\n",
       "      <td>Yes</td>\n",
       "    </tr>\n",
       "  </tbody>\n",
       "</table>\n",
       "</div>"
      ],
      "text/plain": [
       "        Date Location  MinTemp  MaxTemp  Rainfall  Evaporation  Sunshine  \\\n",
       "0 2008-02-01   Sydney     19.5     22.4      15.6          6.2       0.0   \n",
       "1 2008-02-02   Sydney     19.5     25.6       6.0          3.4       2.7   \n",
       "2 2008-02-03   Sydney     21.6     24.5       6.6          2.4       0.1   \n",
       "3 2008-02-04   Sydney     20.2     22.8      18.8          2.2       0.0   \n",
       "4 2008-02-05   Sydney     19.7     25.7      77.4          NaN       0.0   \n",
       "\n",
       "   Humidity9am  Humidity3pm  Pressure9am  Pressure3pm  Cloud9am  Cloud3pm  \\\n",
       "0         92.0         84.0       1017.6       1017.4       8.0       8.0   \n",
       "1         83.0         73.0       1017.9       1016.4       7.0       7.0   \n",
       "2         88.0         86.0       1016.7       1015.6       7.0       8.0   \n",
       "3         83.0         90.0       1014.2       1011.8       8.0       8.0   \n",
       "4         88.0         74.0       1008.3       1004.8       8.0       8.0   \n",
       "\n",
       "   Temp9am  Temp3pm RainToday RainTomorrow  \n",
       "0     20.7     20.9       Yes          Yes  \n",
       "1     22.4     24.8       Yes          Yes  \n",
       "2     23.5     23.0       Yes          Yes  \n",
       "3     21.4     20.9       Yes          Yes  \n",
       "4     22.5     25.5       Yes          Yes  "
      ]
     },
     "execution_count": 3,
     "metadata": {},
     "output_type": "execute_result"
    }
   ],
   "source": [
    "df.head()"
   ]
  },
  {
   "cell_type": "markdown",
   "id": "28fbf2c3-afe0-4d8d-8015-7414a615ff18",
   "metadata": {},
   "source": [
    "# Data Preprocessing"
   ]
  },
  {
   "cell_type": "markdown",
   "id": "d7f754f4-a3c5-4c3d-8c9e-0405a2b9e377",
   "metadata": {},
   "source": [
    "## 1. Dropping Unnecessary columns"
   ]
  },
  {
   "cell_type": "code",
   "execution_count": 6,
   "id": "4c6a5c3d-6408-4b33-8200-46ae3594b6b5",
   "metadata": {},
   "outputs": [],
   "source": [
    "df=df.drop(columns=['Location','Date'],axis=1)"
   ]
  },
  {
   "cell_type": "markdown",
   "id": "9425ed4e-0e1c-40f8-8e18-08efa8e9f407",
   "metadata": {},
   "source": [
    "## 2. Dropping unrequired rows with missing values"
   ]
  },
  {
   "cell_type": "code",
   "execution_count": 8,
   "id": "82e9548f-f2ea-4b20-9fc0-af61a38d5d33",
   "metadata": {},
   "outputs": [],
   "source": [
    "df=df.dropna(subset='Rainfall')"
   ]
  },
  {
   "cell_type": "markdown",
   "id": "2fdc54e8-9bd4-4172-80ca-0a740256a51c",
   "metadata": {},
   "source": [
    "## 3. Imputing Missing values with forward fill method "
   ]
  },
  {
   "cell_type": "code",
   "execution_count": 10,
   "id": "e1e7f00a-feab-470d-9302-a27e71a9f077",
   "metadata": {},
   "outputs": [
    {
     "name": "stderr",
     "output_type": "stream",
     "text": [
      "C:\\Users\\Abhinav Tripathi\\AppData\\Local\\Temp\\ipykernel_25080\\1161462256.py:1: FutureWarning: Series.fillna with 'method' is deprecated and will raise in a future version. Use obj.ffill() or obj.bfill() instead.\n",
      "  df['MinTemp']=df['MinTemp'].fillna(method='ffill')\n",
      "C:\\Users\\Abhinav Tripathi\\AppData\\Local\\Temp\\ipykernel_25080\\1161462256.py:2: FutureWarning: Series.fillna with 'method' is deprecated and will raise in a future version. Use obj.ffill() or obj.bfill() instead.\n",
      "  df['MaxTemp']=df['MaxTemp'].fillna(method='ffill')\n"
     ]
    }
   ],
   "source": [
    "df['MinTemp']=df['MinTemp'].fillna(method='ffill')\n",
    "df['MaxTemp']=df['MaxTemp'].fillna(method='ffill')\n",
    "df['Evaporation']=df['Evaporation'].fillna(df['Evaporation'].mean())\n",
    "df['Sunshine']=df['Sunshine'].fillna(df['Sunshine'].mean())\n",
    "df['Humidity9am']=df['Humidity9am'].fillna(df['Humidity9am'].mean())\n",
    "df['Humidity3pm']=df['Humidity3pm'].fillna(df['Humidity3pm'].mean())\n",
    "df['Pressure9am']=df['Pressure9am'].fillna(df['Pressure9am'].mean())\n",
    "df['Pressure3pm']=df['Pressure3pm'].fillna(df['Pressure3pm'].mean())\n",
    "df['Cloud9am']=df['Cloud9am'].fillna(df['Cloud9am'].mean())\n",
    "df['Cloud3pm']=df['Cloud3pm'].fillna(df['Cloud3pm'].mean())\n",
    "df['Temp9am']=df['Temp9am'].fillna(df['Temp9am'].mean())\n",
    "df['Temp3pm']=df['Temp3pm'].fillna(df['Temp3pm'].mean())"
   ]
  },
  {
   "cell_type": "markdown",
   "id": "8318079f-bb58-4a26-87f4-b044d08ef5e0",
   "metadata": {},
   "source": [
    "## 4. Creation of dummy variables."
   ]
  },
  {
   "cell_type": "code",
   "execution_count": 12,
   "id": "07ace54c-c21d-47aa-bb6c-930545eed9f5",
   "metadata": {},
   "outputs": [],
   "source": [
    "df=pd.get_dummies(df,drop_first=True)"
   ]
  },
  {
   "cell_type": "code",
   "execution_count": 13,
   "id": "6dd4e896-9231-44ab-903f-96f404faaa60",
   "metadata": {},
   "outputs": [
    {
     "data": {
      "text/html": [
       "<div>\n",
       "<style scoped>\n",
       "    .dataframe tbody tr th:only-of-type {\n",
       "        vertical-align: middle;\n",
       "    }\n",
       "\n",
       "    .dataframe tbody tr th {\n",
       "        vertical-align: top;\n",
       "    }\n",
       "\n",
       "    .dataframe thead th {\n",
       "        text-align: right;\n",
       "    }\n",
       "</style>\n",
       "<table border=\"1\" class=\"dataframe\">\n",
       "  <thead>\n",
       "    <tr style=\"text-align: right;\">\n",
       "      <th></th>\n",
       "      <th>MinTemp</th>\n",
       "      <th>MaxTemp</th>\n",
       "      <th>Rainfall</th>\n",
       "      <th>Evaporation</th>\n",
       "      <th>Sunshine</th>\n",
       "      <th>Humidity9am</th>\n",
       "      <th>Humidity3pm</th>\n",
       "      <th>Pressure9am</th>\n",
       "      <th>Pressure3pm</th>\n",
       "      <th>Cloud9am</th>\n",
       "      <th>Cloud3pm</th>\n",
       "      <th>Temp9am</th>\n",
       "      <th>Temp3pm</th>\n",
       "      <th>RainToday_Yes</th>\n",
       "      <th>RainTomorrow_Yes</th>\n",
       "    </tr>\n",
       "  </thead>\n",
       "  <tbody>\n",
       "    <tr>\n",
       "      <th>0</th>\n",
       "      <td>19.5</td>\n",
       "      <td>22.4</td>\n",
       "      <td>15.6</td>\n",
       "      <td>6.200000</td>\n",
       "      <td>0.0</td>\n",
       "      <td>92.0</td>\n",
       "      <td>84.0</td>\n",
       "      <td>1017.6</td>\n",
       "      <td>1017.4</td>\n",
       "      <td>8.0</td>\n",
       "      <td>8.0</td>\n",
       "      <td>20.7</td>\n",
       "      <td>20.9</td>\n",
       "      <td>True</td>\n",
       "      <td>True</td>\n",
       "    </tr>\n",
       "    <tr>\n",
       "      <th>1</th>\n",
       "      <td>19.5</td>\n",
       "      <td>25.6</td>\n",
       "      <td>6.0</td>\n",
       "      <td>3.400000</td>\n",
       "      <td>2.7</td>\n",
       "      <td>83.0</td>\n",
       "      <td>73.0</td>\n",
       "      <td>1017.9</td>\n",
       "      <td>1016.4</td>\n",
       "      <td>7.0</td>\n",
       "      <td>7.0</td>\n",
       "      <td>22.4</td>\n",
       "      <td>24.8</td>\n",
       "      <td>True</td>\n",
       "      <td>True</td>\n",
       "    </tr>\n",
       "    <tr>\n",
       "      <th>2</th>\n",
       "      <td>21.6</td>\n",
       "      <td>24.5</td>\n",
       "      <td>6.6</td>\n",
       "      <td>2.400000</td>\n",
       "      <td>0.1</td>\n",
       "      <td>88.0</td>\n",
       "      <td>86.0</td>\n",
       "      <td>1016.7</td>\n",
       "      <td>1015.6</td>\n",
       "      <td>7.0</td>\n",
       "      <td>8.0</td>\n",
       "      <td>23.5</td>\n",
       "      <td>23.0</td>\n",
       "      <td>True</td>\n",
       "      <td>True</td>\n",
       "    </tr>\n",
       "    <tr>\n",
       "      <th>3</th>\n",
       "      <td>20.2</td>\n",
       "      <td>22.8</td>\n",
       "      <td>18.8</td>\n",
       "      <td>2.200000</td>\n",
       "      <td>0.0</td>\n",
       "      <td>83.0</td>\n",
       "      <td>90.0</td>\n",
       "      <td>1014.2</td>\n",
       "      <td>1011.8</td>\n",
       "      <td>8.0</td>\n",
       "      <td>8.0</td>\n",
       "      <td>21.4</td>\n",
       "      <td>20.9</td>\n",
       "      <td>True</td>\n",
       "      <td>True</td>\n",
       "    </tr>\n",
       "    <tr>\n",
       "      <th>4</th>\n",
       "      <td>19.7</td>\n",
       "      <td>25.7</td>\n",
       "      <td>77.4</td>\n",
       "      <td>5.185396</td>\n",
       "      <td>0.0</td>\n",
       "      <td>88.0</td>\n",
       "      <td>74.0</td>\n",
       "      <td>1008.3</td>\n",
       "      <td>1004.8</td>\n",
       "      <td>8.0</td>\n",
       "      <td>8.0</td>\n",
       "      <td>22.5</td>\n",
       "      <td>25.5</td>\n",
       "      <td>True</td>\n",
       "      <td>True</td>\n",
       "    </tr>\n",
       "    <tr>\n",
       "      <th>...</th>\n",
       "      <td>...</td>\n",
       "      <td>...</td>\n",
       "      <td>...</td>\n",
       "      <td>...</td>\n",
       "      <td>...</td>\n",
       "      <td>...</td>\n",
       "      <td>...</td>\n",
       "      <td>...</td>\n",
       "      <td>...</td>\n",
       "      <td>...</td>\n",
       "      <td>...</td>\n",
       "      <td>...</td>\n",
       "      <td>...</td>\n",
       "      <td>...</td>\n",
       "      <td>...</td>\n",
       "    </tr>\n",
       "    <tr>\n",
       "      <th>3332</th>\n",
       "      <td>8.6</td>\n",
       "      <td>19.6</td>\n",
       "      <td>0.0</td>\n",
       "      <td>2.000000</td>\n",
       "      <td>7.8</td>\n",
       "      <td>73.0</td>\n",
       "      <td>52.0</td>\n",
       "      <td>1025.9</td>\n",
       "      <td>1025.3</td>\n",
       "      <td>2.0</td>\n",
       "      <td>2.0</td>\n",
       "      <td>10.5</td>\n",
       "      <td>17.9</td>\n",
       "      <td>False</td>\n",
       "      <td>False</td>\n",
       "    </tr>\n",
       "    <tr>\n",
       "      <th>3333</th>\n",
       "      <td>9.3</td>\n",
       "      <td>19.2</td>\n",
       "      <td>0.0</td>\n",
       "      <td>2.000000</td>\n",
       "      <td>9.2</td>\n",
       "      <td>78.0</td>\n",
       "      <td>53.0</td>\n",
       "      <td>1028.5</td>\n",
       "      <td>1024.6</td>\n",
       "      <td>2.0</td>\n",
       "      <td>2.0</td>\n",
       "      <td>11.0</td>\n",
       "      <td>18.7</td>\n",
       "      <td>False</td>\n",
       "      <td>False</td>\n",
       "    </tr>\n",
       "    <tr>\n",
       "      <th>3334</th>\n",
       "      <td>9.4</td>\n",
       "      <td>17.7</td>\n",
       "      <td>0.0</td>\n",
       "      <td>2.400000</td>\n",
       "      <td>2.7</td>\n",
       "      <td>85.0</td>\n",
       "      <td>56.0</td>\n",
       "      <td>1020.8</td>\n",
       "      <td>1015.0</td>\n",
       "      <td>6.0</td>\n",
       "      <td>6.0</td>\n",
       "      <td>10.2</td>\n",
       "      <td>17.3</td>\n",
       "      <td>False</td>\n",
       "      <td>False</td>\n",
       "    </tr>\n",
       "    <tr>\n",
       "      <th>3335</th>\n",
       "      <td>10.1</td>\n",
       "      <td>19.3</td>\n",
       "      <td>0.0</td>\n",
       "      <td>1.400000</td>\n",
       "      <td>9.3</td>\n",
       "      <td>56.0</td>\n",
       "      <td>35.0</td>\n",
       "      <td>1017.3</td>\n",
       "      <td>1015.1</td>\n",
       "      <td>5.0</td>\n",
       "      <td>2.0</td>\n",
       "      <td>12.4</td>\n",
       "      <td>19.0</td>\n",
       "      <td>False</td>\n",
       "      <td>False</td>\n",
       "    </tr>\n",
       "    <tr>\n",
       "      <th>3336</th>\n",
       "      <td>7.6</td>\n",
       "      <td>19.3</td>\n",
       "      <td>0.0</td>\n",
       "      <td>3.400000</td>\n",
       "      <td>9.4</td>\n",
       "      <td>73.0</td>\n",
       "      <td>32.0</td>\n",
       "      <td>1018.6</td>\n",
       "      <td>1015.4</td>\n",
       "      <td>1.0</td>\n",
       "      <td>1.0</td>\n",
       "      <td>9.4</td>\n",
       "      <td>18.8</td>\n",
       "      <td>False</td>\n",
       "      <td>False</td>\n",
       "    </tr>\n",
       "  </tbody>\n",
       "</table>\n",
       "<p>3331 rows × 15 columns</p>\n",
       "</div>"
      ],
      "text/plain": [
       "      MinTemp  MaxTemp  Rainfall  Evaporation  Sunshine  Humidity9am  \\\n",
       "0        19.5     22.4      15.6     6.200000       0.0         92.0   \n",
       "1        19.5     25.6       6.0     3.400000       2.7         83.0   \n",
       "2        21.6     24.5       6.6     2.400000       0.1         88.0   \n",
       "3        20.2     22.8      18.8     2.200000       0.0         83.0   \n",
       "4        19.7     25.7      77.4     5.185396       0.0         88.0   \n",
       "...       ...      ...       ...          ...       ...          ...   \n",
       "3332      8.6     19.6       0.0     2.000000       7.8         73.0   \n",
       "3333      9.3     19.2       0.0     2.000000       9.2         78.0   \n",
       "3334      9.4     17.7       0.0     2.400000       2.7         85.0   \n",
       "3335     10.1     19.3       0.0     1.400000       9.3         56.0   \n",
       "3336      7.6     19.3       0.0     3.400000       9.4         73.0   \n",
       "\n",
       "      Humidity3pm  Pressure9am  Pressure3pm  Cloud9am  Cloud3pm  Temp9am  \\\n",
       "0            84.0       1017.6       1017.4       8.0       8.0     20.7   \n",
       "1            73.0       1017.9       1016.4       7.0       7.0     22.4   \n",
       "2            86.0       1016.7       1015.6       7.0       8.0     23.5   \n",
       "3            90.0       1014.2       1011.8       8.0       8.0     21.4   \n",
       "4            74.0       1008.3       1004.8       8.0       8.0     22.5   \n",
       "...           ...          ...          ...       ...       ...      ...   \n",
       "3332         52.0       1025.9       1025.3       2.0       2.0     10.5   \n",
       "3333         53.0       1028.5       1024.6       2.0       2.0     11.0   \n",
       "3334         56.0       1020.8       1015.0       6.0       6.0     10.2   \n",
       "3335         35.0       1017.3       1015.1       5.0       2.0     12.4   \n",
       "3336         32.0       1018.6       1015.4       1.0       1.0      9.4   \n",
       "\n",
       "      Temp3pm  RainToday_Yes  RainTomorrow_Yes  \n",
       "0        20.9           True              True  \n",
       "1        24.8           True              True  \n",
       "2        23.0           True              True  \n",
       "3        20.9           True              True  \n",
       "4        25.5           True              True  \n",
       "...       ...            ...               ...  \n",
       "3332     17.9          False             False  \n",
       "3333     18.7          False             False  \n",
       "3334     17.3          False             False  \n",
       "3335     19.0          False             False  \n",
       "3336     18.8          False             False  \n",
       "\n",
       "[3331 rows x 15 columns]"
      ]
     },
     "execution_count": 13,
     "metadata": {},
     "output_type": "execute_result"
    }
   ],
   "source": [
    "df"
   ]
  },
  {
   "cell_type": "markdown",
   "id": "bf334c9a-d326-4159-9eba-ee171de76b39",
   "metadata": {},
   "source": [
    "## 5. Univariate Analysis of the data."
   ]
  },
  {
   "cell_type": "code",
   "execution_count": 15,
   "id": "4cba693c-7b68-40bf-8bdf-2c1f0a6a02c9",
   "metadata": {},
   "outputs": [
    {
     "data": {
      "text/html": [
       "<div>\n",
       "<style scoped>\n",
       "    .dataframe tbody tr th:only-of-type {\n",
       "        vertical-align: middle;\n",
       "    }\n",
       "\n",
       "    .dataframe tbody tr th {\n",
       "        vertical-align: top;\n",
       "    }\n",
       "\n",
       "    .dataframe thead th {\n",
       "        text-align: right;\n",
       "    }\n",
       "</style>\n",
       "<table border=\"1\" class=\"dataframe\">\n",
       "  <thead>\n",
       "    <tr style=\"text-align: right;\">\n",
       "      <th></th>\n",
       "      <th>MinTemp</th>\n",
       "      <th>MaxTemp</th>\n",
       "      <th>Rainfall</th>\n",
       "      <th>Evaporation</th>\n",
       "      <th>Sunshine</th>\n",
       "      <th>Humidity9am</th>\n",
       "      <th>Humidity3pm</th>\n",
       "      <th>Pressure9am</th>\n",
       "      <th>Pressure3pm</th>\n",
       "      <th>Cloud9am</th>\n",
       "      <th>Cloud3pm</th>\n",
       "      <th>Temp9am</th>\n",
       "      <th>Temp3pm</th>\n",
       "    </tr>\n",
       "  </thead>\n",
       "  <tbody>\n",
       "    <tr>\n",
       "      <th>count</th>\n",
       "      <td>3331.000000</td>\n",
       "      <td>3331.000000</td>\n",
       "      <td>3331.000000</td>\n",
       "      <td>3331.000000</td>\n",
       "      <td>3331.000000</td>\n",
       "      <td>3331.000000</td>\n",
       "      <td>3331.000000</td>\n",
       "      <td>3331.000000</td>\n",
       "      <td>3331.000000</td>\n",
       "      <td>3331.000000</td>\n",
       "      <td>3331.000000</td>\n",
       "      <td>3331.000000</td>\n",
       "      <td>3331.000000</td>\n",
       "    </tr>\n",
       "    <tr>\n",
       "      <th>mean</th>\n",
       "      <td>14.865056</td>\n",
       "      <td>23.000871</td>\n",
       "      <td>3.330231</td>\n",
       "      <td>5.185396</td>\n",
       "      <td>7.173635</td>\n",
       "      <td>68.256256</td>\n",
       "      <td>54.717300</td>\n",
       "      <td>1018.349049</td>\n",
       "      <td>1016.021767</td>\n",
       "      <td>4.182803</td>\n",
       "      <td>4.218536</td>\n",
       "      <td>17.814668</td>\n",
       "      <td>21.528674</td>\n",
       "    </tr>\n",
       "    <tr>\n",
       "      <th>std</th>\n",
       "      <td>4.552901</td>\n",
       "      <td>4.491557</td>\n",
       "      <td>9.895172</td>\n",
       "      <td>2.755999</td>\n",
       "      <td>3.802596</td>\n",
       "      <td>15.043902</td>\n",
       "      <td>16.260795</td>\n",
       "      <td>6.997672</td>\n",
       "      <td>7.005448</td>\n",
       "      <td>2.506658</td>\n",
       "      <td>2.411407</td>\n",
       "      <td>4.891371</td>\n",
       "      <td>4.299054</td>\n",
       "    </tr>\n",
       "    <tr>\n",
       "      <th>min</th>\n",
       "      <td>4.300000</td>\n",
       "      <td>11.700000</td>\n",
       "      <td>0.000000</td>\n",
       "      <td>0.000000</td>\n",
       "      <td>0.000000</td>\n",
       "      <td>19.000000</td>\n",
       "      <td>10.000000</td>\n",
       "      <td>986.700000</td>\n",
       "      <td>989.800000</td>\n",
       "      <td>0.000000</td>\n",
       "      <td>0.000000</td>\n",
       "      <td>6.400000</td>\n",
       "      <td>10.200000</td>\n",
       "    </tr>\n",
       "    <tr>\n",
       "      <th>25%</th>\n",
       "      <td>11.000000</td>\n",
       "      <td>19.600000</td>\n",
       "      <td>0.000000</td>\n",
       "      <td>3.200000</td>\n",
       "      <td>4.300000</td>\n",
       "      <td>58.000000</td>\n",
       "      <td>44.000000</td>\n",
       "      <td>1013.800000</td>\n",
       "      <td>1011.300000</td>\n",
       "      <td>2.000000</td>\n",
       "      <td>2.000000</td>\n",
       "      <td>13.800000</td>\n",
       "      <td>18.400000</td>\n",
       "    </tr>\n",
       "    <tr>\n",
       "      <th>50%</th>\n",
       "      <td>14.900000</td>\n",
       "      <td>22.800000</td>\n",
       "      <td>0.000000</td>\n",
       "      <td>4.800000</td>\n",
       "      <td>8.200000</td>\n",
       "      <td>69.000000</td>\n",
       "      <td>56.000000</td>\n",
       "      <td>1018.500000</td>\n",
       "      <td>1016.300000</td>\n",
       "      <td>4.182803</td>\n",
       "      <td>4.218536</td>\n",
       "      <td>18.100000</td>\n",
       "      <td>21.300000</td>\n",
       "    </tr>\n",
       "    <tr>\n",
       "      <th>75%</th>\n",
       "      <td>18.700000</td>\n",
       "      <td>26.000000</td>\n",
       "      <td>1.400000</td>\n",
       "      <td>7.000000</td>\n",
       "      <td>10.200000</td>\n",
       "      <td>80.000000</td>\n",
       "      <td>64.500000</td>\n",
       "      <td>1023.100000</td>\n",
       "      <td>1020.800000</td>\n",
       "      <td>7.000000</td>\n",
       "      <td>7.000000</td>\n",
       "      <td>21.700000</td>\n",
       "      <td>24.500000</td>\n",
       "    </tr>\n",
       "    <tr>\n",
       "      <th>max</th>\n",
       "      <td>27.600000</td>\n",
       "      <td>45.800000</td>\n",
       "      <td>119.400000</td>\n",
       "      <td>18.400000</td>\n",
       "      <td>13.600000</td>\n",
       "      <td>100.000000</td>\n",
       "      <td>99.000000</td>\n",
       "      <td>1039.000000</td>\n",
       "      <td>1036.700000</td>\n",
       "      <td>9.000000</td>\n",
       "      <td>8.000000</td>\n",
       "      <td>36.500000</td>\n",
       "      <td>44.700000</td>\n",
       "    </tr>\n",
       "  </tbody>\n",
       "</table>\n",
       "</div>"
      ],
      "text/plain": [
       "           MinTemp      MaxTemp     Rainfall  Evaporation     Sunshine  \\\n",
       "count  3331.000000  3331.000000  3331.000000  3331.000000  3331.000000   \n",
       "mean     14.865056    23.000871     3.330231     5.185396     7.173635   \n",
       "std       4.552901     4.491557     9.895172     2.755999     3.802596   \n",
       "min       4.300000    11.700000     0.000000     0.000000     0.000000   \n",
       "25%      11.000000    19.600000     0.000000     3.200000     4.300000   \n",
       "50%      14.900000    22.800000     0.000000     4.800000     8.200000   \n",
       "75%      18.700000    26.000000     1.400000     7.000000    10.200000   \n",
       "max      27.600000    45.800000   119.400000    18.400000    13.600000   \n",
       "\n",
       "       Humidity9am  Humidity3pm  Pressure9am  Pressure3pm     Cloud9am  \\\n",
       "count  3331.000000  3331.000000  3331.000000  3331.000000  3331.000000   \n",
       "mean     68.256256    54.717300  1018.349049  1016.021767     4.182803   \n",
       "std      15.043902    16.260795     6.997672     7.005448     2.506658   \n",
       "min      19.000000    10.000000   986.700000   989.800000     0.000000   \n",
       "25%      58.000000    44.000000  1013.800000  1011.300000     2.000000   \n",
       "50%      69.000000    56.000000  1018.500000  1016.300000     4.182803   \n",
       "75%      80.000000    64.500000  1023.100000  1020.800000     7.000000   \n",
       "max     100.000000    99.000000  1039.000000  1036.700000     9.000000   \n",
       "\n",
       "          Cloud3pm      Temp9am      Temp3pm  \n",
       "count  3331.000000  3331.000000  3331.000000  \n",
       "mean      4.218536    17.814668    21.528674  \n",
       "std       2.411407     4.891371     4.299054  \n",
       "min       0.000000     6.400000    10.200000  \n",
       "25%       2.000000    13.800000    18.400000  \n",
       "50%       4.218536    18.100000    21.300000  \n",
       "75%       7.000000    21.700000    24.500000  \n",
       "max       8.000000    36.500000    44.700000  "
      ]
     },
     "execution_count": 15,
     "metadata": {},
     "output_type": "execute_result"
    }
   ],
   "source": [
    "df.describe()"
   ]
  },
  {
   "cell_type": "markdown",
   "id": "57f74003-0978-4568-b5cc-8337b64bd99f",
   "metadata": {},
   "source": [
    "## 6. Bivariate Analysis of the data"
   ]
  },
  {
   "cell_type": "code",
   "execution_count": 17,
   "id": "12075de5-9f38-466f-b28d-5ceb9c9da0b6",
   "metadata": {},
   "outputs": [
    {
     "data": {
      "text/html": [
       "<div>\n",
       "<style scoped>\n",
       "    .dataframe tbody tr th:only-of-type {\n",
       "        vertical-align: middle;\n",
       "    }\n",
       "\n",
       "    .dataframe tbody tr th {\n",
       "        vertical-align: top;\n",
       "    }\n",
       "\n",
       "    .dataframe thead th {\n",
       "        text-align: right;\n",
       "    }\n",
       "</style>\n",
       "<table border=\"1\" class=\"dataframe\">\n",
       "  <thead>\n",
       "    <tr style=\"text-align: right;\">\n",
       "      <th></th>\n",
       "      <th>MinTemp</th>\n",
       "      <th>MaxTemp</th>\n",
       "      <th>Rainfall</th>\n",
       "      <th>Evaporation</th>\n",
       "      <th>Sunshine</th>\n",
       "      <th>Humidity9am</th>\n",
       "      <th>Humidity3pm</th>\n",
       "      <th>Pressure9am</th>\n",
       "      <th>Pressure3pm</th>\n",
       "      <th>Cloud9am</th>\n",
       "      <th>Cloud3pm</th>\n",
       "      <th>Temp9am</th>\n",
       "      <th>Temp3pm</th>\n",
       "      <th>RainToday_Yes</th>\n",
       "      <th>RainTomorrow_Yes</th>\n",
       "    </tr>\n",
       "  </thead>\n",
       "  <tbody>\n",
       "    <tr>\n",
       "      <th>MinTemp</th>\n",
       "      <td>1.000000</td>\n",
       "      <td>0.770948</td>\n",
       "      <td>0.012632</td>\n",
       "      <td>0.567515</td>\n",
       "      <td>-0.063390</td>\n",
       "      <td>0.053065</td>\n",
       "      <td>0.271657</td>\n",
       "      <td>-0.392678</td>\n",
       "      <td>-0.355552</td>\n",
       "      <td>0.236851</td>\n",
       "      <td>0.163812</td>\n",
       "      <td>0.938766</td>\n",
       "      <td>0.752410</td>\n",
       "      <td>0.018563</td>\n",
       "      <td>0.079153</td>\n",
       "    </tr>\n",
       "    <tr>\n",
       "      <th>MaxTemp</th>\n",
       "      <td>0.770948</td>\n",
       "      <td>1.000000</td>\n",
       "      <td>-0.140305</td>\n",
       "      <td>0.509148</td>\n",
       "      <td>0.325024</td>\n",
       "      <td>-0.185505</td>\n",
       "      <td>-0.151023</td>\n",
       "      <td>-0.387551</td>\n",
       "      <td>-0.423921</td>\n",
       "      <td>-0.087302</td>\n",
       "      <td>-0.099355</td>\n",
       "      <td>0.858753</td>\n",
       "      <td>0.960216</td>\n",
       "      <td>-0.188442</td>\n",
       "      <td>-0.151319</td>\n",
       "    </tr>\n",
       "    <tr>\n",
       "      <th>Rainfall</th>\n",
       "      <td>0.012632</td>\n",
       "      <td>-0.140305</td>\n",
       "      <td>1.000000</td>\n",
       "      <td>-0.100598</td>\n",
       "      <td>-0.306328</td>\n",
       "      <td>0.330979</td>\n",
       "      <td>0.301625</td>\n",
       "      <td>-0.037037</td>\n",
       "      <td>0.003215</td>\n",
       "      <td>0.242160</td>\n",
       "      <td>0.200756</td>\n",
       "      <td>-0.056057</td>\n",
       "      <td>-0.143690</td>\n",
       "      <td>0.555191</td>\n",
       "      <td>0.294121</td>\n",
       "    </tr>\n",
       "    <tr>\n",
       "      <th>Evaporation</th>\n",
       "      <td>0.567515</td>\n",
       "      <td>0.509148</td>\n",
       "      <td>-0.100598</td>\n",
       "      <td>1.000000</td>\n",
       "      <td>0.173926</td>\n",
       "      <td>-0.394105</td>\n",
       "      <td>-0.101657</td>\n",
       "      <td>-0.344964</td>\n",
       "      <td>-0.299224</td>\n",
       "      <td>-0.036787</td>\n",
       "      <td>-0.038150</td>\n",
       "      <td>0.604551</td>\n",
       "      <td>0.472786</td>\n",
       "      <td>-0.228658</td>\n",
       "      <td>-0.064860</td>\n",
       "    </tr>\n",
       "    <tr>\n",
       "      <th>Sunshine</th>\n",
       "      <td>-0.063390</td>\n",
       "      <td>0.325024</td>\n",
       "      <td>-0.306328</td>\n",
       "      <td>0.173926</td>\n",
       "      <td>1.000000</td>\n",
       "      <td>-0.488579</td>\n",
       "      <td>-0.582842</td>\n",
       "      <td>-0.045902</td>\n",
       "      <td>-0.093868</td>\n",
       "      <td>-0.660839</td>\n",
       "      <td>-0.676962</td>\n",
       "      <td>0.113885</td>\n",
       "      <td>0.343199</td>\n",
       "      <td>-0.366554</td>\n",
       "      <td>-0.522603</td>\n",
       "    </tr>\n",
       "    <tr>\n",
       "      <th>Humidity9am</th>\n",
       "      <td>0.053065</td>\n",
       "      <td>-0.185505</td>\n",
       "      <td>0.330979</td>\n",
       "      <td>-0.394105</td>\n",
       "      <td>-0.488579</td>\n",
       "      <td>1.000000</td>\n",
       "      <td>0.657478</td>\n",
       "      <td>0.262277</td>\n",
       "      <td>0.250348</td>\n",
       "      <td>0.424002</td>\n",
       "      <td>0.332448</td>\n",
       "      <td>-0.146949</td>\n",
       "      <td>-0.156033</td>\n",
       "      <td>0.400281</td>\n",
       "      <td>0.330739</td>\n",
       "    </tr>\n",
       "    <tr>\n",
       "      <th>Humidity3pm</th>\n",
       "      <td>0.271657</td>\n",
       "      <td>-0.151023</td>\n",
       "      <td>0.301625</td>\n",
       "      <td>-0.101657</td>\n",
       "      <td>-0.582842</td>\n",
       "      <td>0.657478</td>\n",
       "      <td>1.000000</td>\n",
       "      <td>0.153372</td>\n",
       "      <td>0.182151</td>\n",
       "      <td>0.454305</td>\n",
       "      <td>0.472250</td>\n",
       "      <td>0.129357</td>\n",
       "      <td>-0.213493</td>\n",
       "      <td>0.342714</td>\n",
       "      <td>0.472619</td>\n",
       "    </tr>\n",
       "    <tr>\n",
       "      <th>Pressure9am</th>\n",
       "      <td>-0.392678</td>\n",
       "      <td>-0.387551</td>\n",
       "      <td>-0.037037</td>\n",
       "      <td>-0.344964</td>\n",
       "      <td>-0.045902</td>\n",
       "      <td>0.262277</td>\n",
       "      <td>0.153372</td>\n",
       "      <td>1.000000</td>\n",
       "      <td>0.960418</td>\n",
       "      <td>-0.011641</td>\n",
       "      <td>-0.039841</td>\n",
       "      <td>-0.418549</td>\n",
       "      <td>-0.345046</td>\n",
       "      <td>-0.000356</td>\n",
       "      <td>-0.032630</td>\n",
       "    </tr>\n",
       "    <tr>\n",
       "      <th>Pressure3pm</th>\n",
       "      <td>-0.355552</td>\n",
       "      <td>-0.423921</td>\n",
       "      <td>0.003215</td>\n",
       "      <td>-0.299224</td>\n",
       "      <td>-0.093868</td>\n",
       "      <td>0.250348</td>\n",
       "      <td>0.182151</td>\n",
       "      <td>0.960418</td>\n",
       "      <td>1.000000</td>\n",
       "      <td>0.018193</td>\n",
       "      <td>-0.002475</td>\n",
       "      <td>-0.403879</td>\n",
       "      <td>-0.391249</td>\n",
       "      <td>0.056850</td>\n",
       "      <td>0.010966</td>\n",
       "    </tr>\n",
       "    <tr>\n",
       "      <th>Cloud9am</th>\n",
       "      <td>0.236851</td>\n",
       "      <td>-0.087302</td>\n",
       "      <td>0.242160</td>\n",
       "      <td>-0.036787</td>\n",
       "      <td>-0.660839</td>\n",
       "      <td>0.424002</td>\n",
       "      <td>0.454305</td>\n",
       "      <td>-0.011641</td>\n",
       "      <td>0.018193</td>\n",
       "      <td>1.000000</td>\n",
       "      <td>0.609702</td>\n",
       "      <td>0.089649</td>\n",
       "      <td>-0.088336</td>\n",
       "      <td>0.316493</td>\n",
       "      <td>0.330646</td>\n",
       "    </tr>\n",
       "    <tr>\n",
       "      <th>Cloud3pm</th>\n",
       "      <td>0.163812</td>\n",
       "      <td>-0.099355</td>\n",
       "      <td>0.200756</td>\n",
       "      <td>-0.038150</td>\n",
       "      <td>-0.676962</td>\n",
       "      <td>0.332448</td>\n",
       "      <td>0.472250</td>\n",
       "      <td>-0.039841</td>\n",
       "      <td>-0.002475</td>\n",
       "      <td>0.609702</td>\n",
       "      <td>1.000000</td>\n",
       "      <td>0.067241</td>\n",
       "      <td>-0.146649</td>\n",
       "      <td>0.260738</td>\n",
       "      <td>0.413227</td>\n",
       "    </tr>\n",
       "    <tr>\n",
       "      <th>Temp9am</th>\n",
       "      <td>0.938766</td>\n",
       "      <td>0.858753</td>\n",
       "      <td>-0.056057</td>\n",
       "      <td>0.604551</td>\n",
       "      <td>0.113885</td>\n",
       "      <td>-0.146949</td>\n",
       "      <td>0.129357</td>\n",
       "      <td>-0.418549</td>\n",
       "      <td>-0.403879</td>\n",
       "      <td>0.089649</td>\n",
       "      <td>0.067241</td>\n",
       "      <td>1.000000</td>\n",
       "      <td>0.828261</td>\n",
       "      <td>-0.074591</td>\n",
       "      <td>-0.001785</td>\n",
       "    </tr>\n",
       "    <tr>\n",
       "      <th>Temp3pm</th>\n",
       "      <td>0.752410</td>\n",
       "      <td>0.960216</td>\n",
       "      <td>-0.143690</td>\n",
       "      <td>0.472786</td>\n",
       "      <td>0.343199</td>\n",
       "      <td>-0.156033</td>\n",
       "      <td>-0.213493</td>\n",
       "      <td>-0.345046</td>\n",
       "      <td>-0.391249</td>\n",
       "      <td>-0.088336</td>\n",
       "      <td>-0.146649</td>\n",
       "      <td>0.828261</td>\n",
       "      <td>1.000000</td>\n",
       "      <td>-0.188815</td>\n",
       "      <td>-0.190374</td>\n",
       "    </tr>\n",
       "    <tr>\n",
       "      <th>RainToday_Yes</th>\n",
       "      <td>0.018563</td>\n",
       "      <td>-0.188442</td>\n",
       "      <td>0.555191</td>\n",
       "      <td>-0.228658</td>\n",
       "      <td>-0.366554</td>\n",
       "      <td>0.400281</td>\n",
       "      <td>0.342714</td>\n",
       "      <td>-0.000356</td>\n",
       "      <td>0.056850</td>\n",
       "      <td>0.316493</td>\n",
       "      <td>0.260738</td>\n",
       "      <td>-0.074591</td>\n",
       "      <td>-0.188815</td>\n",
       "      <td>1.000000</td>\n",
       "      <td>0.341547</td>\n",
       "    </tr>\n",
       "    <tr>\n",
       "      <th>RainTomorrow_Yes</th>\n",
       "      <td>0.079153</td>\n",
       "      <td>-0.151319</td>\n",
       "      <td>0.294121</td>\n",
       "      <td>-0.064860</td>\n",
       "      <td>-0.522603</td>\n",
       "      <td>0.330739</td>\n",
       "      <td>0.472619</td>\n",
       "      <td>-0.032630</td>\n",
       "      <td>0.010966</td>\n",
       "      <td>0.330646</td>\n",
       "      <td>0.413227</td>\n",
       "      <td>-0.001785</td>\n",
       "      <td>-0.190374</td>\n",
       "      <td>0.341547</td>\n",
       "      <td>1.000000</td>\n",
       "    </tr>\n",
       "  </tbody>\n",
       "</table>\n",
       "</div>"
      ],
      "text/plain": [
       "                   MinTemp   MaxTemp  Rainfall  Evaporation  Sunshine  \\\n",
       "MinTemp           1.000000  0.770948  0.012632     0.567515 -0.063390   \n",
       "MaxTemp           0.770948  1.000000 -0.140305     0.509148  0.325024   \n",
       "Rainfall          0.012632 -0.140305  1.000000    -0.100598 -0.306328   \n",
       "Evaporation       0.567515  0.509148 -0.100598     1.000000  0.173926   \n",
       "Sunshine         -0.063390  0.325024 -0.306328     0.173926  1.000000   \n",
       "Humidity9am       0.053065 -0.185505  0.330979    -0.394105 -0.488579   \n",
       "Humidity3pm       0.271657 -0.151023  0.301625    -0.101657 -0.582842   \n",
       "Pressure9am      -0.392678 -0.387551 -0.037037    -0.344964 -0.045902   \n",
       "Pressure3pm      -0.355552 -0.423921  0.003215    -0.299224 -0.093868   \n",
       "Cloud9am          0.236851 -0.087302  0.242160    -0.036787 -0.660839   \n",
       "Cloud3pm          0.163812 -0.099355  0.200756    -0.038150 -0.676962   \n",
       "Temp9am           0.938766  0.858753 -0.056057     0.604551  0.113885   \n",
       "Temp3pm           0.752410  0.960216 -0.143690     0.472786  0.343199   \n",
       "RainToday_Yes     0.018563 -0.188442  0.555191    -0.228658 -0.366554   \n",
       "RainTomorrow_Yes  0.079153 -0.151319  0.294121    -0.064860 -0.522603   \n",
       "\n",
       "                  Humidity9am  Humidity3pm  Pressure9am  Pressure3pm  \\\n",
       "MinTemp              0.053065     0.271657    -0.392678    -0.355552   \n",
       "MaxTemp             -0.185505    -0.151023    -0.387551    -0.423921   \n",
       "Rainfall             0.330979     0.301625    -0.037037     0.003215   \n",
       "Evaporation         -0.394105    -0.101657    -0.344964    -0.299224   \n",
       "Sunshine            -0.488579    -0.582842    -0.045902    -0.093868   \n",
       "Humidity9am          1.000000     0.657478     0.262277     0.250348   \n",
       "Humidity3pm          0.657478     1.000000     0.153372     0.182151   \n",
       "Pressure9am          0.262277     0.153372     1.000000     0.960418   \n",
       "Pressure3pm          0.250348     0.182151     0.960418     1.000000   \n",
       "Cloud9am             0.424002     0.454305    -0.011641     0.018193   \n",
       "Cloud3pm             0.332448     0.472250    -0.039841    -0.002475   \n",
       "Temp9am             -0.146949     0.129357    -0.418549    -0.403879   \n",
       "Temp3pm             -0.156033    -0.213493    -0.345046    -0.391249   \n",
       "RainToday_Yes        0.400281     0.342714    -0.000356     0.056850   \n",
       "RainTomorrow_Yes     0.330739     0.472619    -0.032630     0.010966   \n",
       "\n",
       "                  Cloud9am  Cloud3pm   Temp9am   Temp3pm  RainToday_Yes  \\\n",
       "MinTemp           0.236851  0.163812  0.938766  0.752410       0.018563   \n",
       "MaxTemp          -0.087302 -0.099355  0.858753  0.960216      -0.188442   \n",
       "Rainfall          0.242160  0.200756 -0.056057 -0.143690       0.555191   \n",
       "Evaporation      -0.036787 -0.038150  0.604551  0.472786      -0.228658   \n",
       "Sunshine         -0.660839 -0.676962  0.113885  0.343199      -0.366554   \n",
       "Humidity9am       0.424002  0.332448 -0.146949 -0.156033       0.400281   \n",
       "Humidity3pm       0.454305  0.472250  0.129357 -0.213493       0.342714   \n",
       "Pressure9am      -0.011641 -0.039841 -0.418549 -0.345046      -0.000356   \n",
       "Pressure3pm       0.018193 -0.002475 -0.403879 -0.391249       0.056850   \n",
       "Cloud9am          1.000000  0.609702  0.089649 -0.088336       0.316493   \n",
       "Cloud3pm          0.609702  1.000000  0.067241 -0.146649       0.260738   \n",
       "Temp9am           0.089649  0.067241  1.000000  0.828261      -0.074591   \n",
       "Temp3pm          -0.088336 -0.146649  0.828261  1.000000      -0.188815   \n",
       "RainToday_Yes     0.316493  0.260738 -0.074591 -0.188815       1.000000   \n",
       "RainTomorrow_Yes  0.330646  0.413227 -0.001785 -0.190374       0.341547   \n",
       "\n",
       "                  RainTomorrow_Yes  \n",
       "MinTemp                   0.079153  \n",
       "MaxTemp                  -0.151319  \n",
       "Rainfall                  0.294121  \n",
       "Evaporation              -0.064860  \n",
       "Sunshine                 -0.522603  \n",
       "Humidity9am               0.330739  \n",
       "Humidity3pm               0.472619  \n",
       "Pressure9am              -0.032630  \n",
       "Pressure3pm               0.010966  \n",
       "Cloud9am                  0.330646  \n",
       "Cloud3pm                  0.413227  \n",
       "Temp9am                  -0.001785  \n",
       "Temp3pm                  -0.190374  \n",
       "RainToday_Yes             0.341547  \n",
       "RainTomorrow_Yes          1.000000  "
      ]
     },
     "execution_count": 17,
     "metadata": {},
     "output_type": "execute_result"
    }
   ],
   "source": [
    "df.corr()"
   ]
  },
  {
   "cell_type": "code",
   "execution_count": 18,
   "id": "71b3000a-96d5-42a3-9be5-9b43cb94c827",
   "metadata": {},
   "outputs": [],
   "source": [
    "df = df.rename(columns={'RainToday_Yes': 'RainToday','RainTomorrow_Yes':'RainTomorrow'})"
   ]
  },
  {
   "cell_type": "markdown",
   "id": "3fc33dbf-5032-4f23-9e0e-ef702fae2388",
   "metadata": {},
   "source": [
    "## 7. Creation of response and predictor variables."
   ]
  },
  {
   "cell_type": "code",
   "execution_count": 20,
   "id": "ff3d3252-7ffe-49c4-8069-14cb83ea7361",
   "metadata": {},
   "outputs": [],
   "source": [
    "x_multi=df.drop('RainTomorrow',axis=1)\n",
    "y_multi=df['RainTomorrow']"
   ]
  },
  {
   "cell_type": "markdown",
   "id": "f474a2c8-71b8-4eef-aa5e-d855daf06f09",
   "metadata": {},
   "source": [
    "# Train-Test Split"
   ]
  },
  {
   "cell_type": "code",
   "execution_count": 22,
   "id": "26db48fc-f20d-44ec-99ea-6fed18a7439e",
   "metadata": {},
   "outputs": [],
   "source": [
    "from sklearn.model_selection import train_test_split\n",
    "x_train,x_test,y_train,y_test=train_test_split(x_multi,y_multi,test_size=0.2,random_state=42)"
   ]
  },
  {
   "cell_type": "markdown",
   "id": "fc75b265-614a-4130-9976-5be906fb2a38",
   "metadata": {},
   "source": [
    "# DecisionTreeClassifier"
   ]
  },
  {
   "cell_type": "code",
   "execution_count": 24,
   "id": "9b8ce806-896a-4453-8914-1dc5ee66daa5",
   "metadata": {},
   "outputs": [],
   "source": [
    "from sklearn.tree import DecisionTreeClassifier\n",
    "# Creating and Fitting the DecisionTreeClassifier model on the training data\n",
    "clftree=DecisionTreeClassifier(max_depth=2,random_state=42)\n",
    "clftree.fit(x_train,y_train)\n",
    "# Prediction on the train and test data\n",
    "y_train_pred_clf=clftree.predict(x_train)\n",
    "y_test_pred_clf=clftree.predict(x_test)"
   ]
  },
  {
   "cell_type": "code",
   "execution_count": 183,
   "id": "b2a3c8c9-6770-4f2a-81b1-cc72932d1573",
   "metadata": {},
   "outputs": [
    {
     "data": {
      "text/plain": [
       "array([[488,   9],\n",
       "       [109,  61]], dtype=int64)"
      ]
     },
     "execution_count": 183,
     "metadata": {},
     "output_type": "execute_result"
    }
   ],
   "source": [
    "from sklearn.metrics import accuracy_score,confusion_matrix\n",
    "confusion_matrix(y_test,y_test_pred_clf)"
   ]
  },
  {
   "cell_type": "code",
   "execution_count": 26,
   "id": "af9732c8-f99f-4bcb-85b6-0ccbcce1f098",
   "metadata": {},
   "outputs": [
    {
     "data": {
      "text/plain": [
       "0.823088455772114"
      ]
     },
     "execution_count": 26,
     "metadata": {},
     "output_type": "execute_result"
    }
   ],
   "source": [
    "accuracy_score(y_test,y_test_pred_clf)"
   ]
  },
  {
   "cell_type": "code",
   "execution_count": 187,
   "id": "cb0c7a17-12e8-4f10-942f-a8add56e55b6",
   "metadata": {},
   "outputs": [
    {
     "data": {
      "text/plain": [
       "<sklearn.metrics._plot.confusion_matrix.ConfusionMatrixDisplay at 0x1af3db8ca50>"
      ]
     },
     "execution_count": 187,
     "metadata": {},
     "output_type": "execute_result"
    },
    {
     "data": {
      "image/png": "[encoded data removed]",
      "text/plain": [
       "<Figure size 640x480 with 2 Axes>"
      ]
     },
     "metadata": {},
     "output_type": "display_data"
    }
   ],
   "source": [
    "from sklearn.metrics import confusion_matrix, ConfusionMatrixDisplay\n",
    "cm1= confusion_matrix(y_test, y_test_pred_clf)\n",
    "cmd= ConfusionMatrixDisplay(cm, display_labels=['No-Rain','Rain'])\n",
    "cmd.plot()"
   ]
  },
  {
   "cell_type": "code",
   "execution_count": 239,
   "id": "92c41c63-313d-4180-9735-c7da4054dfe5",
   "metadata": {},
   "outputs": [
    {
     "data": {
      "image/png": "[encoded data removed]",
      "text/plain": [
       "<Figure size 2000x1000 with 1 Axes>"
      ]
     },
     "metadata": {},
     "output_type": "display_data"
    }
   ],
   "source": [
    "from sklearn.tree import plot_tree\n",
    "plt.figure(figsize=(20,10))\n",
    "plot_tree(clftree, filled=True)\n",
    "plt.show()"
   ]
  },
  {
   "cell_type": "markdown",
   "id": "8af045ff-e819-4419-b8dd-fc7ddbba53c6",
   "metadata": {},
   "source": [
    "# Bagging"
   ]
  },
  {
   "cell_type": "code",
   "execution_count": 28,
   "id": "1f29d802-52af-47d0-9566-ee6fb725f430",
   "metadata": {},
   "outputs": [],
   "source": [
    "from sklearn.ensemble import BaggingClassifier\n",
    "# Creating and Fitting the BaggingClassifer model on the training data\n",
    "bagclf=BaggingClassifier(estimator=clftree,n_estimators=1000,bootstrap=True,n_jobs=-1,random_state=42)\n",
    "bagclf.fit(x_train,y_train)\n",
    "# Prediction on the train and test data\n",
    "y_train_pred_bag=bagclf.predict(x_train)\n",
    "y_test_pred_bag=bagclf.predict(x_test)\n"
   ]
  },
  {
   "cell_type": "code",
   "execution_count": 29,
   "id": "b8379bff-5443-47ba-b2fe-5184e341c399",
   "metadata": {},
   "outputs": [
    {
     "data": {
      "text/plain": [
       "array([[487,  10],\n",
       "       [108,  62]], dtype=int64)"
      ]
     },
     "execution_count": 29,
     "metadata": {},
     "output_type": "execute_result"
    }
   ],
   "source": [
    "confusion_matrix(y_test,y_test_pred_bag)"
   ]
  },
  {
   "cell_type": "code",
   "execution_count": 30,
   "id": "240a8ea3-a71e-43e1-835c-0cc2cc2a67d5",
   "metadata": {},
   "outputs": [
    {
     "data": {
      "text/plain": [
       "0.823088455772114"
      ]
     },
     "execution_count": 30,
     "metadata": {},
     "output_type": "execute_result"
    }
   ],
   "source": [
    "accuracy_score(y_test,y_test_pred_bag)"
   ]
  },
  {
   "cell_type": "code",
   "execution_count": 31,
   "id": "27928143-ff14-4670-8f6a-c00eb30b4325",
   "metadata": {},
   "outputs": [],
   "source": [
    "### Bagging with GridSearchCV\n",
    "from sklearn.model_selection import GridSearchCV\n",
    "params={\"n_estimators\":[500,700,900,1000],\"max_features\":[9,11,13]}\n",
    "gridsearch1=GridSearchCV(bagclf,params,n_jobs=-1,cv=5,scoring='accuracy')\n",
    "gridsearch1.fit(x_train,y_train)\n",
    "y_train_pred_cvbag=gridsearch1.predict(x_train)\n",
    "y_test_pred_cvbag=gridsearch1.predict(x_test)"
   ]
  },
  {
   "cell_type": "code",
   "execution_count": 32,
   "id": "3b0dab3b-41ae-4e2b-b07b-23cc61299675",
   "metadata": {},
   "outputs": [
    {
     "data": {
      "text/plain": [
       "array([[485,  12],\n",
       "       [100,  70]], dtype=int64)"
      ]
     },
     "execution_count": 32,
     "metadata": {},
     "output_type": "execute_result"
    }
   ],
   "source": [
    "confusion_matrix(y_test,y_test_pred_cvbag)"
   ]
  },
  {
   "cell_type": "code",
   "execution_count": 33,
   "id": "8f1cbb24-9a2b-403d-afd2-3133946a2ebe",
   "metadata": {},
   "outputs": [
    {
     "data": {
      "text/plain": [
       "0.8320839580209896"
      ]
     },
     "execution_count": 33,
     "metadata": {},
     "output_type": "execute_result"
    }
   ],
   "source": [
    "accuracy_score(y_test,y_test_pred_cvbag)"
   ]
  },
  {
   "cell_type": "code",
   "execution_count": 34,
   "id": "982f6286-4854-4170-a59e-7c94602abcac",
   "metadata": {},
   "outputs": [
    {
     "data": {
      "text/plain": [
       "{'max_features': 9, 'n_estimators': 1000}"
      ]
     },
     "execution_count": 34,
     "metadata": {},
     "output_type": "execute_result"
    }
   ],
   "source": [
    "gridsearch1.best_params_"
   ]
  },
  {
   "cell_type": "code",
   "execution_count": 193,
   "id": "16d203db-a072-4029-b807-c8789655b438",
   "metadata": {},
   "outputs": [
    {
     "data": {
      "text/plain": [
       "<sklearn.metrics._plot.confusion_matrix.ConfusionMatrixDisplay at 0x1af3db96890>"
      ]
     },
     "execution_count": 193,
     "metadata": {},
     "output_type": "execute_result"
    },
    {
     "data": {
      "image/png": "[encoded data removed]",
      "text/plain": [
       "<Figure size 640x480 with 2 Axes>"
      ]
     },
     "metadata": {},
     "output_type": "display_data"
    }
   ],
   "source": [
    "from sklearn.metrics import confusion_matrix, ConfusionMatrixDisplay\n",
    "cm2= confusion_matrix(y_test, gridsearch1.best_estimator_.predict(x_test))\n",
    "cmd= ConfusionMatrixDisplay(cm2, display_labels=['No-Rain','Rain'])\n",
    "cmd.plot()"
   ]
  },
  {
   "cell_type": "markdown",
   "id": "af09255c-c819-4ff0-9294-ae0c5d348ab6",
   "metadata": {},
   "source": [
    "# Random Forest"
   ]
  },
  {
   "cell_type": "code",
   "execution_count": 36,
   "id": "189e2abb-99a4-48fc-8f72-1499a9044241",
   "metadata": {},
   "outputs": [],
   "source": [
    "from sklearn.ensemble import RandomForestClassifier\n",
    "# Creating and Fitting the RandomForestClassifer model on the training data\n",
    "rfclf=RandomForestClassifier(n_estimators=1000,n_jobs=-1,random_state=42, max_features='sqrt')\n",
    "rfclf.fit(x_train,y_train)\n",
    "# Prediction on the train and test data\n",
    "y_train_pred_rf=rfclf.predict(x_train)\n",
    "y_test_pred_rf=rfclf.predict(x_test)"
   ]
  },
  {
   "cell_type": "code",
   "execution_count": 37,
   "id": "d7bccb68-238e-401c-a742-233dc02f17c8",
   "metadata": {},
   "outputs": [
    {
     "data": {
      "text/plain": [
       "array([[468,  29],\n",
       "       [ 81,  89]], dtype=int64)"
      ]
     },
     "execution_count": 37,
     "metadata": {},
     "output_type": "execute_result"
    }
   ],
   "source": [
    "confusion_matrix(y_test,y_test_pred_rf)"
   ]
  },
  {
   "cell_type": "code",
   "execution_count": 38,
   "id": "cf222b78-05df-4382-9c85-7189d931470a",
   "metadata": {},
   "outputs": [
    {
     "data": {
      "text/plain": [
       "0.8350824587706147"
      ]
     },
     "execution_count": 38,
     "metadata": {},
     "output_type": "execute_result"
    }
   ],
   "source": [
    "accuracy_score(y_test,y_test_pred_rf)"
   ]
  },
  {
   "cell_type": "code",
   "execution_count": 39,
   "id": "61ea9284-a24a-4299-a97c-f6182c78ef0c",
   "metadata": {},
   "outputs": [],
   "source": [
    "### Random Forest with GridSearchCV\n",
    "from sklearn.model_selection import GridSearchCV\n",
    "params={\"max_depth\":[5,6,7,8],\"n_estimators\":[300,400,500,900,1000]}\n",
    "gridsearch2=GridSearchCV(rfclf,params,n_jobs=-1,cv=5,scoring='accuracy')\n",
    "gridsearch2.fit(x_train,y_train)\n",
    "y_train_pred_cvrf=gridsearch2.predict(x_train)\n",
    "y_test_pred_cvrf=gridsearch2.predict(x_test)"
   ]
  },
  {
   "cell_type": "code",
   "execution_count": 40,
   "id": "6501ab59-b1a6-4d2a-bae5-454a3a6e4b81",
   "metadata": {},
   "outputs": [
    {
     "data": {
      "text/plain": [
       "array([[479,  18],\n",
       "       [ 90,  80]], dtype=int64)"
      ]
     },
     "execution_count": 40,
     "metadata": {},
     "output_type": "execute_result"
    }
   ],
   "source": [
    "confusion_matrix(y_test,y_test_pred_cvrf)"
   ]
  },
  {
   "cell_type": "code",
   "execution_count": 41,
   "id": "0065c095-4902-457b-913f-6d7a4b5ecea7",
   "metadata": {},
   "outputs": [
    {
     "data": {
      "text/plain": [
       "0.8380809595202399"
      ]
     },
     "execution_count": 41,
     "metadata": {},
     "output_type": "execute_result"
    }
   ],
   "source": [
    "accuracy_score(y_test,y_test_pred_cvrf)"
   ]
  },
  {
   "cell_type": "code",
   "execution_count": 42,
   "id": "5971d2ba-af3d-477d-bffa-0a3f7c06a1b8",
   "metadata": {},
   "outputs": [
    {
     "data": {
      "text/plain": [
       "{'max_depth': 7, 'n_estimators': 500}"
      ]
     },
     "execution_count": 42,
     "metadata": {},
     "output_type": "execute_result"
    }
   ],
   "source": [
    "gridsearch2.best_params_"
   ]
  },
  {
   "cell_type": "code",
   "execution_count": 195,
   "id": "48780e4f-2ff9-4654-9535-f67126f8b257",
   "metadata": {},
   "outputs": [
    {
     "data": {
      "text/plain": [
       "<sklearn.metrics._plot.confusion_matrix.ConfusionMatrixDisplay at 0x1af3dc65710>"
      ]
     },
     "execution_count": 195,
     "metadata": {},
     "output_type": "execute_result"
    },
    {
     "data": {
      "image/png": "[encoded data removed]",
      "text/plain": [
       "<Figure size 640x480 with 2 Axes>"
      ]
     },
     "metadata": {},
     "output_type": "display_data"
    }
   ],
   "source": [
    "from sklearn.metrics import confusion_matrix, ConfusionMatrixDisplay\n",
    "cm3= confusion_matrix(y_test, gridsearch2.best_estimator_.predict(x_test))\n",
    "cmd= ConfusionMatrixDisplay(cm3, display_labels=['No-Rain','Rain'])\n",
    "cmd.plot()"
   ]
  },
  {
   "cell_type": "markdown",
   "id": "2c9af647-7234-4ec8-84a2-3b4b31fdd953",
   "metadata": {},
   "source": [
    "# Gradient Boosting"
   ]
  },
  {
   "cell_type": "code",
   "execution_count": 44,
   "id": "7ae174a9-2e41-4304-a152-7d22b52a4006",
   "metadata": {},
   "outputs": [],
   "source": [
    "from sklearn.ensemble import GradientBoostingClassifier\n",
    "# Creating and Fitting the GradientBoostingClassifier model on the training data\n",
    "gbclf=GradientBoostingClassifier(n_estimators=1000,max_depth=2,random_state=42)\n",
    "gbclf.fit(x_train,y_train)\n",
    "# Prediction on the train and test data\n",
    "y_train_pred_gb=gbclf.predict(x_train)\n",
    "y_test_pred_gb=gbclf.predict(x_test)"
   ]
  },
  {
   "cell_type": "code",
   "execution_count": 45,
   "id": "299a445b-a879-463c-98c9-ba60d9d52a43",
   "metadata": {},
   "outputs": [
    {
     "data": {
      "text/plain": [
       "array([[463,  34],\n",
       "       [ 79,  91]], dtype=int64)"
      ]
     },
     "execution_count": 45,
     "metadata": {},
     "output_type": "execute_result"
    }
   ],
   "source": [
    "confusion_matrix(y_test,y_test_pred_gb)"
   ]
  },
  {
   "cell_type": "code",
   "execution_count": 46,
   "id": "944b6570-9279-4ee5-8066-bbcf4bbc2b92",
   "metadata": {},
   "outputs": [
    {
     "data": {
      "text/plain": [
       "0.8305847076461769"
      ]
     },
     "execution_count": 46,
     "metadata": {},
     "output_type": "execute_result"
    }
   ],
   "source": [
    "accuracy_score(y_test,y_test_pred_gb)"
   ]
  },
  {
   "cell_type": "code",
   "execution_count": 47,
   "id": "dbf0fef8-c367-4ff6-be36-4801b8837d3d",
   "metadata": {},
   "outputs": [],
   "source": [
    "### GradientBoost with GridSearchCV\n",
    "from sklearn.model_selection import GridSearchCV\n",
    "params={\"n_estimators\":[400,700,1000],\"learning_rate\":[0.2,0.4,0.6,0.8]}\n",
    "gridsearch3=GridSearchCV(gbclf,params,n_jobs=-1,cv=5,scoring='accuracy')\n",
    "gridsearch3.fit(x_train,y_train)\n",
    "y_train_pred_cvgb=gridsearch3.predict(x_train)\n",
    "y_test_pred_cvgb=gridsearch3.predict(x_test)"
   ]
  },
  {
   "cell_type": "code",
   "execution_count": 48,
   "id": "4df176f4-be93-4311-bd4d-6775f5504d06",
   "metadata": {},
   "outputs": [
    {
     "data": {
      "text/plain": [
       "array([[461,  36],\n",
       "       [ 82,  88]], dtype=int64)"
      ]
     },
     "execution_count": 48,
     "metadata": {},
     "output_type": "execute_result"
    }
   ],
   "source": [
    "confusion_matrix(y_test,y_test_pred_cvgb)"
   ]
  },
  {
   "cell_type": "code",
   "execution_count": 49,
   "id": "ff9e6ecb-ab0e-4d49-bbba-7ad589fad44f",
   "metadata": {},
   "outputs": [
    {
     "data": {
      "text/plain": [
       "0.823088455772114"
      ]
     },
     "execution_count": 49,
     "metadata": {},
     "output_type": "execute_result"
    }
   ],
   "source": [
    "accuracy_score(y_test,y_test_pred_cvgb)"
   ]
  },
  {
   "cell_type": "code",
   "execution_count": 50,
   "id": "45f2d5d4-08ef-41ab-bfd2-501d3aea5100",
   "metadata": {},
   "outputs": [
    {
     "data": {
      "text/plain": [
       "{'learning_rate': 0.2, 'n_estimators': 400}"
      ]
     },
     "execution_count": 50,
     "metadata": {},
     "output_type": "execute_result"
    }
   ],
   "source": [
    "gridsearch3.best_params_"
   ]
  },
  {
   "cell_type": "code",
   "execution_count": 197,
   "id": "dd0893e6-2a42-4feb-ac81-d29bf0abf028",
   "metadata": {},
   "outputs": [
    {
     "data": {
      "text/plain": [
       "<sklearn.metrics._plot.confusion_matrix.ConfusionMatrixDisplay at 0x1af3dcc9590>"
      ]
     },
     "execution_count": 197,
     "metadata": {},
     "output_type": "execute_result"
    },
    {
     "data": {
      "image/png": "[encoded data removed]",
      "text/plain": [
       "<Figure size 640x480 with 2 Axes>"
      ]
     },
     "metadata": {},
     "output_type": "display_data"
    }
   ],
   "source": [
    "from sklearn.metrics import confusion_matrix, ConfusionMatrixDisplay\n",
    "cm4= confusion_matrix(y_test, gridsearch3.best_estimator_.predict(x_test))\n",
    "cmd= ConfusionMatrixDisplay(cm4, display_labels=['No-Rain','Rain'])\n",
    "cmd.plot()"
   ]
  },
  {
   "cell_type": "markdown",
   "id": "67adcc00-0c71-4c4c-b43a-d0343886c52d",
   "metadata": {},
   "source": [
    "# ADABoost"
   ]
  },
  {
   "cell_type": "code",
   "execution_count": 52,
   "id": "61e18998-4a1c-4c22-8c46-f526f6c7e780",
   "metadata": {},
   "outputs": [],
   "source": [
    "from sklearn.ensemble import AdaBoostClassifier\n",
    "# Creating and Fitting the AdaBoostingClassifer model on the training data\n",
    "adclf=AdaBoostClassifier(estimator=clftree,learning_rate=0.1,n_estimators=1000,random_state=42)\n",
    "adclf.fit(x_train,y_train)\n",
    "# Prediction on the train and test data\n",
    "y_train_pred_ad=adclf.predict(x_train)\n",
    "y_test_pred_ad=adclf.predict(x_test)"
   ]
  },
  {
   "cell_type": "code",
   "execution_count": 53,
   "id": "09835ea7-231f-489a-9fc2-d6f6b922b32f",
   "metadata": {},
   "outputs": [
    {
     "data": {
      "text/plain": [
       "array([[456,  41],\n",
       "       [ 89,  81]], dtype=int64)"
      ]
     },
     "execution_count": 53,
     "metadata": {},
     "output_type": "execute_result"
    }
   ],
   "source": [
    "confusion_matrix(y_test,y_test_pred_ad)"
   ]
  },
  {
   "cell_type": "code",
   "execution_count": 54,
   "id": "fe91a8be-63e2-40d0-a9d3-699b30c2b5ae",
   "metadata": {},
   "outputs": [
    {
     "data": {
      "text/plain": [
       "0.8050974512743628"
      ]
     },
     "execution_count": 54,
     "metadata": {},
     "output_type": "execute_result"
    }
   ],
   "source": [
    "accuracy_score(y_test,y_test_pred_ad)"
   ]
  },
  {
   "cell_type": "code",
   "execution_count": 55,
   "id": "5577e1ef-4c8d-4f36-8999-37b31d7d7067",
   "metadata": {},
   "outputs": [],
   "source": [
    "### AdaBoost with GridSearchCV\n",
    "from sklearn.model_selection import GridSearchCV\n",
    "params={\"n_estimators\":[400,700,1000],\"learning_rate\":[0.2,0.4,0.6,0.8]}\n",
    "gridsearch4=GridSearchCV(adclf,params,n_jobs=-1,cv=5,scoring='accuracy')\n",
    "gridsearch4.fit(x_train,y_train)\n",
    "y_train_pred_cvad=gridsearch4.predict(x_train)\n",
    "y_test_pred_cvad=gridsearch4.predict(x_test)"
   ]
  },
  {
   "cell_type": "code",
   "execution_count": 56,
   "id": "9dd05483-7d0d-4c99-949c-4fa7fb929c3c",
   "metadata": {},
   "outputs": [
    {
     "data": {
      "text/plain": [
       "array([[464,  33],\n",
       "       [ 87,  83]], dtype=int64)"
      ]
     },
     "execution_count": 56,
     "metadata": {},
     "output_type": "execute_result"
    }
   ],
   "source": [
    "confusion_matrix(y_test,y_test_pred_cvad)"
   ]
  },
  {
   "cell_type": "code",
   "execution_count": 57,
   "id": "64674414-cbaf-46d8-ac94-eb597ae08f65",
   "metadata": {},
   "outputs": [
    {
     "data": {
      "text/plain": [
       "0.8200899550224887"
      ]
     },
     "execution_count": 57,
     "metadata": {},
     "output_type": "execute_result"
    }
   ],
   "source": [
    "accuracy_score(y_test,y_test_pred_cvad)"
   ]
  },
  {
   "cell_type": "code",
   "execution_count": 58,
   "id": "c3c45c22-d4d6-4d56-a639-6b827076c0d7",
   "metadata": {},
   "outputs": [
    {
     "data": {
      "text/plain": [
       "{'learning_rate': 0.2, 'n_estimators': 400}"
      ]
     },
     "execution_count": 58,
     "metadata": {},
     "output_type": "execute_result"
    }
   ],
   "source": [
    "gridsearch4.best_params_"
   ]
  },
  {
   "cell_type": "code",
   "execution_count": 201,
   "id": "ebb220fb-abf1-4699-83e6-bb8bd5b7acdb",
   "metadata": {},
   "outputs": [
    {
     "data": {
      "text/plain": [
       "<sklearn.metrics._plot.confusion_matrix.ConfusionMatrixDisplay at 0x1af3dc4ff10>"
      ]
     },
     "execution_count": 201,
     "metadata": {},
     "output_type": "execute_result"
    },
    {
     "data": {
      "image/png": "[encoded data removed]",
      "text/plain": [
       "<Figure size 640x480 with 2 Axes>"
      ]
     },
     "metadata": {},
     "output_type": "display_data"
    }
   ],
   "source": [
    "from sklearn.metrics import confusion_matrix, ConfusionMatrixDisplay\n",
    "cm5= confusion_matrix(y_test, gridsearch4.best_estimator_.predict(x_test))\n",
    "cmd= ConfusionMatrixDisplay(cm5, display_labels=['No-Rain','Rain'])\n",
    "cmd.plot()"
   ]
  },
  {
   "cell_type": "markdown",
   "id": "67ab4a9b-94b0-4db5-b5a1-83b135774d05",
   "metadata": {},
   "source": [
    "# XGBoost"
   ]
  },
  {
   "cell_type": "code",
   "execution_count": 60,
   "id": "51a762a2-67c4-4f26-ae19-ab79dae0102d",
   "metadata": {},
   "outputs": [],
   "source": [
    "from xgboost import XGBClassifier\n",
    "# Creating and Fitting the XGBoosting Classifier model on the training data\n",
    "xgclf = XGBClassifier(n_estimators=1000, max_depth=3, learning_rate=1,n_jobs=-1)\n",
    "xgclf.fit(x_train,y_train)\n",
    "# Prediction on the train and test data\n",
    "y_train_pred_xg=xgclf.predict(x_train)\n",
    "y_test_pred_xg=xgclf.predict(x_test)"
   ]
  },
  {
   "cell_type": "code",
   "execution_count": 61,
   "id": "24f3647d-e1f5-45a1-b970-b23c3727ef43",
   "metadata": {},
   "outputs": [
    {
     "data": {
      "text/plain": [
       "array([[442,  55],\n",
       "       [ 73,  97]], dtype=int64)"
      ]
     },
     "execution_count": 61,
     "metadata": {},
     "output_type": "execute_result"
    }
   ],
   "source": [
    "confusion_matrix(y_test,y_test_pred_xg)"
   ]
  },
  {
   "cell_type": "code",
   "execution_count": 62,
   "id": "83b75856-081e-4363-8773-ffcdf3a32719",
   "metadata": {},
   "outputs": [
    {
     "data": {
      "text/plain": [
       "0.808095952023988"
      ]
     },
     "execution_count": 62,
     "metadata": {},
     "output_type": "execute_result"
    }
   ],
   "source": [
    "accuracy_score(y_test,y_test_pred_xg)"
   ]
  },
  {
   "cell_type": "code",
   "execution_count": 63,
   "id": "6c43b3bb-f155-4676-91a2-a8ab8a9ca962",
   "metadata": {},
   "outputs": [],
   "source": [
    "### XgBoost with GridSearchCV\n",
    "from sklearn.model_selection import GridSearchCV\n",
    "params={\"max_depth\":[2,4,5,6,7,8,9],\"n_estimators\":[400,700,900,1000],\"learning_rate\":[0.2,0.4,0.6,0.8]}\n",
    "gridsearch5=GridSearchCV(xgclf,params,n_jobs=-1,cv=5,scoring='accuracy')\n",
    "gridsearch5.fit(x_train,y_train)\n",
    "y_train_pred_cvxg=gridsearch5.predict(x_train)\n",
    "y_test_pred_cvxg=gridsearch5.predict(x_test)"
   ]
  },
  {
   "cell_type": "code",
   "execution_count": 64,
   "id": "9692af90-1ad3-407d-ad9a-880ed97d483d",
   "metadata": {},
   "outputs": [
    {
     "data": {
      "text/plain": [
       "array([[463,  34],\n",
       "       [ 79,  91]], dtype=int64)"
      ]
     },
     "execution_count": 64,
     "metadata": {},
     "output_type": "execute_result"
    }
   ],
   "source": [
    "confusion_matrix(y_test,y_test_pred_cvxg)"
   ]
  },
  {
   "cell_type": "code",
   "execution_count": 65,
   "id": "0ae96cf1-ebf1-4e8a-988a-29258e6d65c2",
   "metadata": {},
   "outputs": [
    {
     "data": {
      "text/plain": [
       "0.8305847076461769"
      ]
     },
     "execution_count": 65,
     "metadata": {},
     "output_type": "execute_result"
    }
   ],
   "source": [
    "accuracy_score(y_test,y_test_pred_cvxg)"
   ]
  },
  {
   "cell_type": "code",
   "execution_count": 66,
   "id": "c03c9b04-d2ad-4a22-92d4-3b0fb54defb8",
   "metadata": {},
   "outputs": [
    {
     "data": {
      "text/plain": [
       "{'learning_rate': 0.2, 'max_depth': 2, 'n_estimators': 400}"
      ]
     },
     "execution_count": 66,
     "metadata": {},
     "output_type": "execute_result"
    }
   ],
   "source": [
    "gridsearch5.best_params_"
   ]
  },
  {
   "cell_type": "code",
   "execution_count": 203,
   "id": "1bbed0a1-357b-4831-9162-69c6373996ca",
   "metadata": {},
   "outputs": [
    {
     "data": {
      "text/plain": [
       "<sklearn.metrics._plot.confusion_matrix.ConfusionMatrixDisplay at 0x1af3bbe94d0>"
      ]
     },
     "execution_count": 203,
     "metadata": {},
     "output_type": "execute_result"
    },
    {
     "data": {
      "image/png": "[encoded data removed]",
      "text/plain": [
       "<Figure size 640x480 with 2 Axes>"
      ]
     },
     "metadata": {},
     "output_type": "display_data"
    }
   ],
   "source": [
    "from sklearn.metrics import confusion_matrix, ConfusionMatrixDisplay\n",
    "cm6= confusion_matrix(y_test, gridsearch5.best_estimator_.predict(x_test))\n",
    "cmd= ConfusionMatrixDisplay(cm6, display_labels=['No-Rain','Rain'])\n",
    "cmd.plot()"
   ]
  },
  {
   "cell_type": "code",
   "execution_count": 209,
   "id": "109433b2-98ce-4604-81f0-544ebd872ff1",
   "metadata": {},
   "outputs": [
    {
     "data": {
      "image/png": "[encoded data removed]",
      "text/plain": [
       "<Figure size 640x480 with 1 Axes>"
      ]
     },
     "metadata": {},
     "output_type": "display_data"
    }
   ],
   "source": [
    "from xgboost import plot_importance\n",
    "plot_importance(gridsearch5.best_estimator_) # top 10 most important features\n",
    "plt.show()"
   ]
  },
  {
   "cell_type": "markdown",
   "id": "3e8b2225-8fa2-4cc9-b005-4aefbdd64779",
   "metadata": {},
   "source": [
    "# Best ML Model"
   ]
  },
  {
   "cell_type": "markdown",
   "id": "f236ec76-b156-4cc7-82dd-af5a63240212",
   "metadata": {},
   "source": [
    "## RANDOM FOREST CLASSIFIER"
   ]
  },
  {
   "cell_type": "markdown",
   "id": "f73dd23f-73ab-4645-928d-3395d8538b54",
   "metadata": {},
   "source": [
    "## Project Questions"
   ]
  },
  {
   "cell_type": "markdown",
   "id": "106dea1c-25d6-4f24-a066-2972f229e3c6",
   "metadata": {},
   "source": [
    "#### Ques 1. Your views about the problem statement?"
   ]
  },
  {
   "cell_type": "markdown",
   "id": "f096acda-2094-4900-b8e5-5e5e37c66a36",
   "metadata": {},
   "source": [
    "#### The nature of the data and the problem asked it is quite clear that it is a Classification problem. The project is asking me to analysis different attributes of weather data of a place such as his humidity , temperature and cloudiness to predict Rainfall. This can be achieved by studying the relationshihp of differnet attributes and factors and feeding them to different enhanced machine learning models which will help us in Rainfall predictions. I will use different types of classification approaches to solve this problem."
   ]
  },
  {
   "cell_type": "markdown",
   "id": "2fc8c8cf-5d1c-478c-ae5c-716359a17374",
   "metadata": {},
   "source": [
    "#### Ques 2. What will be your approach to solving this task?"
   ]
  },
  {
   "cell_type": "markdown",
   "id": "15c5a349-d5c9-41de-9985-376258e6eee2",
   "metadata": {},
   "source": [
    "#### I have adopted a structured way of dealing with this problem which consists of different steps:\n",
    "#### 1. Data acquisition - This is the first step where we gather all the data from the source required for performing the task\n",
    "#### 2. Data Preprocessing - This is the second step where we convert the raw and dirty data into a work ready and organized data. The methods used in this process include filling missing values, excluding outliers if any, and encoding categorical variables.\n",
    "#### 3. Univariate Analysis of the data - Its a step taken to visualize important parameters of the data such as mean,deviation etc to have a brief idea of our data.\n",
    "#### 4. Bivariate Analysis - In this step we find the correlation of all variables with each other.This is done to exclude variables that are very correlated to each other so as to avoid an error called Multicollinearity in our model.\n",
    "#### 5.Train-Test-Split - In this step we split entire data into two called train set and test set. This is done so that we can also test the performance of our model and evaluate its efficiency.\n",
    "#### 6. Model Creation and fitting - In this step we create diffferent ML models and fit our training data in those models.\n",
    "#### 7. Model Prediction - In this step we can predictions based on the test data\n",
    "#### 8. Model Evaluation - In this step we evaluate the performance of our model using different preformance metrics such as confusion matrix and accuracy scores.\n",
    "#### 9. Model visualisations - In this step we visualize the predictions of our model on a chart. a chart."
   ]
  },
  {
   "cell_type": "markdown",
   "id": "e95c55c1-c757-4246-be7b-df8aa4c6c2c5",
   "metadata": {},
   "source": [
    "#### Ques 3. What were the available ML model options you had to perform this task?"
   ]
  },
  {
   "cell_type": "markdown",
   "id": "d6cb15bd-879d-46fa-bcee-965d080482f6",
   "metadata": {},
   "source": [
    "#### To perform this task we can use multiple approaches\n",
    "#### 1. Decision Tree Classifier\n",
    "#### 2. Bagging Classifier with GridSearchCV \n",
    "#### 3. RandomForest Classifier with GridSearchCV\n",
    "#### 4. GradientBoosting Classifer with GridSearchCV\n",
    "#### 5. AdaBoosting with GridSearchCV\n",
    "#### 6. XGBoost with GridSearchCV"
   ]
  },
  {
   "cell_type": "markdown",
   "id": "feb4793c-b4e7-4a8c-9682-d49493f01be8",
   "metadata": {},
   "source": [
    "#### Ques 4. Which model’s performance is best and what could be the possible reason for that?"
   ]
  },
  {
   "cell_type": "markdown",
   "id": "053ee3a3-5a20-4e24-92b2-a330f53d1849",
   "metadata": {},
   "source": [
    "#### After using all the above approaches the Random Forest Classifier with GridsearchCV works best on our data with an accuracy score of 0.83808. The performance metrices clearly suggested that the RandomForestClassifer is the best model for our project. The possible reasons for this can be because Random Forest works well with a mixture of numerical and categorical features. Random Forest Algorithm eliminates overfitting as the result is based on a majority vote or average . And most importantly, Random Forest is highly resistant to noise and outliers which can be the case with our weather data"
   ]
  },
  {
   "cell_type": "markdown",
   "id": "f6b8b5ed-8384-4d36-a2a1-76977b436f68",
   "metadata": {},
   "source": [
    "#### Ques 5. What steps can you take to improve this selected model’s performance even further?"
   ]
  },
  {
   "cell_type": "markdown",
   "id": "b6da6e06-ed0a-4cce-807d-8296fdb62bb8",
   "metadata": {},
   "source": [
    "#### To improve the performance of our model the following steps can be taken:\n",
    "####  1. Data scaling and standardization so as to avoid domination of some features.\n",
    "####  2. Executing cross validation over the data to better train the model \n",
    "####  3. Enhancing the quality of the data\n",
    "####  4. Using predictions from different models and combining them using stacking and other techniques."
   ]
  },
  {
   "cell_type": "markdown",
   "id": "6be07299-4973-4026-887c-bae6b8049339",
   "metadata": {},
   "source": [
    "### THE END\n"
   ]
  },
  {
   "cell_type": "markdown",
   "id": "6e70da61-d0f7-49bd-a6f8-5eb8e46b63fb",
   "metadata": {},
   "source": [
    "### Other models that could be used (KNN classifier):-"
   ]
  },
  {
   "cell_type": "code",
   "execution_count": 82,
   "id": "d04532da-ad21-418a-9960-a92c3a0c4405",
   "metadata": {},
   "outputs": [
    {
     "data": {
      "text/html": [
       "<style>#sk-container-id-1 {color: black;background-color: white;}#sk-container-id-1 pre{padding: 0;}#sk-container-id-1 div.sk-toggleable {background-color: white;}#sk-container-id-1 label.sk-toggleable__label {cursor: pointer;display: block;width: 100%;margin-bottom: 0;padding: 0.3em;box-sizing: border-box;text-align: center;}#sk-container-id-1 label.sk-toggleable__label-arrow:before {content: \"▸\";float: left;margin-right: 0.25em;color: #696969;}#sk-container-id-1 label.sk-toggleable__label-arrow:hover:before {color: black;}#sk-container-id-1 div.sk-estimator:hover label.sk-toggleable__label-arrow:before {color: black;}#sk-container-id-1 div.sk-toggleable__content {max-height: 0;max-width: 0;overflow: hidden;text-align: left;background-color: #f0f8ff;}#sk-container-id-1 div.sk-toggleable__content pre {margin: 0.2em;color: black;border-radius: 0.25em;background-color: #f0f8ff;}#sk-container-id-1 input.sk-toggleable__control:checked~div.sk-toggleable__content {max-height: 200px;max-width: 100%;overflow: auto;}#sk-container-id-1 input.sk-toggleable__control:checked~label.sk-toggleable__label-arrow:before {content: \"▾\";}#sk-container-id-1 div.sk-estimator input.sk-toggleable__control:checked~label.sk-toggleable__label {background-color: #d4ebff;}#sk-container-id-1 div.sk-label input.sk-toggleable__control:checked~label.sk-toggleable__label {background-color: #d4ebff;}#sk-container-id-1 input.sk-hidden--visually {border: 0;clip: rect(1px 1px 1px 1px);clip: rect(1px, 1px, 1px, 1px);height: 1px;margin: -1px;overflow: hidden;padding: 0;position: absolute;width: 1px;}#sk-container-id-1 div.sk-estimator {font-family: monospace;background-color: #f0f8ff;border: 1px dotted black;border-radius: 0.25em;box-sizing: border-box;margin-bottom: 0.5em;}#sk-container-id-1 div.sk-estimator:hover {background-color: #d4ebff;}#sk-container-id-1 div.sk-parallel-item::after {content: \"\";width: 100%;border-bottom: 1px solid gray;flex-grow: 1;}#sk-container-id-1 div.sk-label:hover label.sk-toggleable__label {background-color: #d4ebff;}#sk-container-id-1 div.sk-serial::before {content: \"\";position: absolute;border-left: 1px solid gray;box-sizing: border-box;top: 0;bottom: 0;left: 50%;z-index: 0;}#sk-container-id-1 div.sk-serial {display: flex;flex-direction: column;align-items: center;background-color: white;padding-right: 0.2em;padding-left: 0.2em;position: relative;}#sk-container-id-1 div.sk-item {position: relative;z-index: 1;}#sk-container-id-1 div.sk-parallel {display: flex;align-items: stretch;justify-content: center;background-color: white;position: relative;}#sk-container-id-1 div.sk-item::before, #sk-container-id-1 div.sk-parallel-item::before {content: \"\";position: absolute;border-left: 1px solid gray;box-sizing: border-box;top: 0;bottom: 0;left: 50%;z-index: -1;}#sk-container-id-1 div.sk-parallel-item {display: flex;flex-direction: column;z-index: 1;position: relative;background-color: white;}#sk-container-id-1 div.sk-parallel-item:first-child::after {align-self: flex-end;width: 50%;}#sk-container-id-1 div.sk-parallel-item:last-child::after {align-self: flex-start;width: 50%;}#sk-container-id-1 div.sk-parallel-item:only-child::after {width: 0;}#sk-container-id-1 div.sk-dashed-wrapped {border: 1px dashed gray;margin: 0 0.4em 0.5em 0.4em;box-sizing: border-box;padding-bottom: 0.4em;background-color: white;}#sk-container-id-1 div.sk-label label {font-family: monospace;font-weight: bold;display: inline-block;line-height: 1.2em;}#sk-container-id-1 div.sk-label-container {text-align: center;}#sk-container-id-1 div.sk-container {/* jupyter's `normalize.less` sets `[hidden] { display: none; }` but bootstrap.min.css set `[hidden] { display: none !important; }` so we also need the `!important` here to be able to override the default hidden behavior on the sphinx rendered scikit-learn.org. See: https://github.com/scikit-learn/scikit-learn/issues/21755 */display: inline-block !important;position: relative;}#sk-container-id-1 div.sk-text-repr-fallback {display: none;}</style><div id=\"sk-container-id-1\" class=\"sk-top-container\"><div class=\"sk-text-repr-fallback\"><pre>KNeighborsClassifier(n_neighbors=19)</pre><b>In a Jupyter environment, please rerun this cell to show the HTML representation or trust the notebook. <br />On GitHub, the HTML representation is unable to render, please try loading this page with nbviewer.org.</b></div><div class=\"sk-container\" hidden><div class=\"sk-item\"><div class=\"sk-estimator sk-toggleable\"><input class=\"sk-toggleable__control sk-hidden--visually\" id=\"sk-estimator-id-1\" type=\"checkbox\" checked><label for=\"sk-estimator-id-1\" class=\"sk-toggleable__label sk-toggleable__label-arrow\">KNeighborsClassifier</label><div class=\"sk-toggleable__content\"><pre>KNeighborsClassifier(n_neighbors=19)</pre></div></div></div></div></div>"
      ],
      "text/plain": [
       "KNeighborsClassifier(n_neighbors=19)"
      ]
     },
     "execution_count": 82,
     "metadata": {},
     "output_type": "execute_result"
    }
   ],
   "source": [
    "from sklearn import preprocessing\n",
    "scaler=preprocessing.StandardScaler().fit(x_train)\n",
    "x_train_s=scaler.transform(x_train)\n",
    "scaler=preprocessing.StandardScaler().fit(x_test)\n",
    "x_test_s=scaler.transform(x_test)\n",
    "from sklearn.neighbors import KNeighborsClassifier\n",
    "# Creating and Fitting the KNN classifier model on the training data\n",
    "knnclf=KNeighborsClassifier(n_neighbors=19)\n",
    "knnclf.fit(x_train_s,y_train)\n"
   ]
  },
  {
   "cell_type": "code",
   "execution_count": 83,
   "id": "f42d2790-c838-496c-95fb-0c29d08a16ec",
   "metadata": {},
   "outputs": [
    {
     "data": {
      "text/plain": [
       "array([[473,  24],\n",
       "       [ 80,  90]], dtype=int64)"
      ]
     },
     "execution_count": 83,
     "metadata": {},
     "output_type": "execute_result"
    }
   ],
   "source": [
    "confusion_matrix(y_test,knnclf.predict(x_test_s))"
   ]
  },
  {
   "cell_type": "code",
   "execution_count": 84,
   "id": "3031ed97-8d46-48dc-a605-a96022645ca5",
   "metadata": {},
   "outputs": [
    {
     "data": {
      "text/plain": [
       "0.8440779610194903"
      ]
     },
     "execution_count": 84,
     "metadata": {},
     "output_type": "execute_result"
    }
   ],
   "source": [
    "accuracy_score(y_test,knnclf.predict(x_test_s))"
   ]
  },
  {
   "cell_type": "markdown",
   "id": "ace52228-8158-4f0e-ada0-3297a0791c26",
   "metadata": {},
   "source": [
    "#### Note:- The KNN Model that i have made above is also a good fit model for this data with the nearest neighbor value of 19. The accuracy score of the model is 0.8440 which is a really desirable value.\n"
   ]
  }
 ],
 "metadata": {
  "kernelspec": {
   "display_name": "Python 3 (ipykernel)",
   "language": "python",
   "name": "python3"
  },
  "language_info": {
   "codemirror_mode": {
    "name": "ipython",
    "version": 3
   },
   "file_extension": ".py",
   "mimetype": "text/x-python",
   "name": "python",
   "nbconvert_exporter": "python",
   "pygments_lexer": "ipython3",
   "version": "3.11.7"
  }
 },
 "nbformat": 4,
 "nbformat_minor": 5
}
